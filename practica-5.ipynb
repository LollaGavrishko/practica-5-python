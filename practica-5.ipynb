{
  "nbformat": 4,
  "nbformat_minor": 0,
  "metadata": {
    "colab": {
      "name": "Untitled1.ipynb",
      "provenance": [],
      "authorship_tag": "ABX9TyOFhbtuiH75bRxai+8q5kfo",
      "include_colab_link": true
    },
    "kernelspec": {
      "name": "python3",
      "display_name": "Python 3"
    },
    "language_info": {
      "name": "python"
    }
  },
  "cells": [
    {
      "cell_type": "markdown",
      "metadata": {
        "id": "view-in-github",
        "colab_type": "text"
      },
      "source": [
        "<a href=\"https://colab.research.google.com/github/LollaGavrishko/practica-5-python/blob/main/practica-5.ipynb\" target=\"_parent\"><img src=\"https://colab.research.google.com/assets/colab-badge.svg\" alt=\"Open In Colab\"/></a>"
      ]
    },
    {
      "cell_type": "code",
      "metadata": {
        "id": "wix3W4Lzcwg0"
      },
      "source": [
        "import numpy as np\n",
        "import matplotlib.pyplot as plt\n",
        "import pandas as pd\n"
      ],
      "execution_count": 4,
      "outputs": []
    },
    {
      "cell_type": "code",
      "metadata": {
        "id": "W8kGRrXjhq7k"
      },
      "source": [
        "def read_data(input_file): #определить функцию, которая будет считывать данные из входного файла\n",
        "input_data = np.loadtxt(input_file, delimiter = None) \n",
        "dates = pd.date_range('1950-01', periods = input_data.shape[0], freq = 'M') #преобразовать эти данные во временные ряды c помощью диапазона дат нашего временного ряда\n",
        "output = pd.Series(input_data[:, index], index = dates) #создать данные временных рядов с помощью Pandas Series"
      ],
      "execution_count": null,
      "outputs": []
    },
    {
      "cell_type": "code",
      "metadata": {
        "id": "LLWNk45Fhv1E"
      },
      "source": [
        "return output\n",
        "if __name__=='__main__':\n",
        "  input_file = \"/Users/admin/AO.txt\""
      ],
      "execution_count": null,
      "outputs": []
    },
    {
      "cell_type": "code",
      "metadata": {
        "id": "xIJJCi9IhxBV"
      },
      "source": [
        "timeseries = read_data(input_file)#преобразовать столбец в формат временных рядов\n",
        "plt.figure() # нанести на график и визуализируйте данные\n",
        "timeseries.plot()\n",
        "plt.show()"
      ],
      "execution_count": null,
      "outputs": []
    },
    {
      "cell_type": "code",
      "metadata": {
        "id": "TTxyUXQ1jsYc"
      },
      "source": [
        "timeseries['1980':'1990'].plot()#нарезка на отрезок времени\n",
        "<matplotlib.axes._subplots.AxesSubplot at 0xa0e4b00>\n",
        "plt.show()"
      ],
      "execution_count": null,
      "outputs": []
    },
    {
      "cell_type": "code",
      "metadata": {
        "id": "FLadodLkhw-E"
      },
      "source": [
        "timeseries.mean()#нахождение среднего значения\n",
        "timeseries.max()#найти максимум\n",
        "timeseries.min()#найти минимум\n",
        "timeseries.describe()# рассчитать всю статистику за раз"
      ],
      "execution_count": null,
      "outputs": []
    },
    {
      "cell_type": "code",
      "metadata": {
        "id": "S8ukhRynhw5c"
      },
      "source": [
        "timeseries_mm = timeseries.resample(\"A\").mean()#код для повторной выборки данных\n",
        "timeseries_mm.plot(style = 'g--')\n",
        "plt.show()"
      ],
      "execution_count": null,
      "outputs": []
    },
    {
      "cell_type": "code",
      "metadata": {
        "id": "aGVpqtHskZT7"
      },
      "source": [
        "timeseries.rolling(window = 12, center = False).mean().plot(style = '-g')#код для расчета скользящего среднего значения\n",
        "plt.show()"
      ],
      "execution_count": null,
      "outputs": []
    }
  ]
}